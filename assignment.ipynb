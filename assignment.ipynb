{
 "cells": [
  {
   "cell_type": "markdown",
   "id": "3533c600-59cc-4f38-942a-41cf1f7e3f74",
   "metadata": {},
   "source": [
    "Que 1. who developed python programming\n",
    "      language?"
   ]
  },
  {
   "cell_type": "markdown",
   "id": "9c09ff01-1352-4f06-91c0-8ddb8c1f1268",
   "metadata": {},
   "source": [
    "ans: Guido van rossum"
   ]
  },
  {
   "cell_type": "markdown",
   "id": "cb1ba9e0-59f8-43d8-bfe5-1b0d744a4e7d",
   "metadata": {},
   "source": [
    "Que 2. which type of programming does pythn support?"
   ]
  },
  {
   "cell_type": "markdown",
   "id": "ba12179f-6536-46d9-8187-9e26c70f63d2",
   "metadata": {},
   "source": [
    "Ans: Object-oriented programming and structured programming."
   ]
  },
  {
   "cell_type": "markdown",
   "id": "2b2cdfec-7fab-48fc-b2f8-9eb96d2aab4a",
   "metadata": {},
   "source": [
    "Que 3. is python case sensitive when dealing with identifiers?"
   ]
  },
  {
   "cell_type": "markdown",
   "id": "6dbd284a-09a2-49bc-8a68-bdc5d7dc34b5",
   "metadata": {},
   "source": [
    "Ans: yes, python is case sensitive language."
   ]
  },
  {
   "cell_type": "markdown",
   "id": "27a7e787-f2c1-48a3-bbfe-262a90df8a8c",
   "metadata": {},
   "source": [
    "Que 4. what is the correct extension of the python file?"
   ]
  },
  {
   "cell_type": "markdown",
   "id": "660360a9-2ff7-4476-8c60-ad2b4a4eaff1",
   "metadata": {},
   "source": [
    "Ans: py,. pyi,."
   ]
  },
  {
   "cell_type": "markdown",
   "id": "4b2df22b-e99b-429c-9e3d-7780592a2dd7",
   "metadata": {},
   "source": [
    "Que 5: is python code compailed or interpreted?"
   ]
  },
  {
   "cell_type": "markdown",
   "id": "b74ea761-65a5-44fb-a215-4ede108fe4fe",
   "metadata": {},
   "source": [
    "Ans: intrepreted"
   ]
  },
  {
   "cell_type": "markdown",
   "id": "1a2aab38-1a48-4797-ac9a-1accf24b055e",
   "metadata": {},
   "source": [
    "Que 6. Name a few blocks of code used to define in python language?"
   ]
  },
  {
   "cell_type": "markdown",
   "id": "f314c1fe-840b-4578-871d-09170c543ebe",
   "metadata": {},
   "source": [
    "Ans: a module, a function body, and a class definition."
   ]
  },
  {
   "cell_type": "markdown",
   "id": "31737943-23ff-45a0-8791-a9d70f03dcbf",
   "metadata": {},
   "source": [
    "Que 7: state a character used to give single line comments in python?"
   ]
  },
  {
   "cell_type": "markdown",
   "id": "0c969c06-4d87-4cc0-aea7-47dd14bcfd90",
   "metadata": {},
   "source": [
    "Ans: Hash character(#)"
   ]
  },
  {
   "cell_type": "markdown",
   "id": "2b425be0-3c3f-4bb3-abab-a2bcba2d20d4",
   "metadata": {},
   "source": [
    "Que 8: mention functions which can help us to find the version of python that we are currently working on?"
   ]
  },
  {
   "cell_type": "markdown",
   "id": "4a6d97f9-532c-413e-b44c-7f42e7ab4c3b",
   "metadata": {},
   "source": [
    "Ans: sys.version"
   ]
  },
  {
   "cell_type": "markdown",
   "id": "653e643f-78d9-4af5-912a-cd0ff9772f48",
   "metadata": {},
   "source": [
    "Que 9: python supports the creation of anonymous functions at runtime, using a construct called"
   ]
  },
  {
   "cell_type": "markdown",
   "id": "dae438e5-cfd4-49f4-8902-4f1def4dcb50",
   "metadata": {},
   "source": [
    "Ans: lambda"
   ]
  },
  {
   "cell_type": "markdown",
   "id": "9dc8b513-b105-457b-95bc-a32728860153",
   "metadata": {},
   "source": [
    "Que 10: what does pip stand for python?"
   ]
  },
  {
   "cell_type": "markdown",
   "id": "baf3938d-1c2f-4cb1-adbb-ac5782233838",
   "metadata": {},
   "source": [
    "Ans: pip install packages"
   ]
  },
  {
   "cell_type": "markdown",
   "id": "98aacdb8-ec04-4e60-9484-7a6340af826f",
   "metadata": {},
   "source": [
    "Que 11: mension a few built-in function in python?"
   ]
  },
  {
   "cell_type": "markdown",
   "id": "a7d93699-b464-424b-aeb6-2feb3c831daa",
   "metadata": {},
   "source": [
    "Ans: bin() , bool(), bytes(),dir(), filter(), float(), format(), hash(), int(), list(),next(), range(), sum(), type(),tuple() "
   ]
  },
  {
   "cell_type": "markdown",
   "id": "cecbf154-8d45-4123-88dd-f21effc2204a",
   "metadata": {},
   "source": [
    "Que 12: what is the maximum possible length of an identifier in python?"
   ]
  },
  {
   "cell_type": "markdown",
   "id": "96d2472b-245e-4da8-908a-5d65b7ac8f3b",
   "metadata": {},
   "source": [
    "Ans: 79 character"
   ]
  },
  {
   "cell_type": "markdown",
   "id": "13cf3935-536e-40ce-b0bb-0bc5e82b80d5",
   "metadata": {},
   "source": [
    "Que 13: what are the benefits of using python?"
   ]
  },
  {
   "cell_type": "markdown",
   "id": "bf1900b4-13af-4a44-853d-e001110d9ed2",
   "metadata": {},
   "source": [
    "Ans: General purpose programming language, simple , easy to learn syntex, capable of scripting, completely open source,dynamically typed, dynamic binded"
   ]
  },
  {
   "cell_type": "markdown",
   "id": "ad5c7f84-3aea-4991-9afe-4d8e3879025a",
   "metadata": {},
   "source": [
    "Que 14:how is memory mananged in python?"
   ]
  },
  {
   "cell_type": "markdown",
   "id": "150f52ca-0d31-4bf4-8412-b4ae6e206037",
   "metadata": {},
   "source": [
    "Ans: python private heap space."
   ]
  },
  {
   "cell_type": "markdown",
   "id": "aaff0a3d-1eeb-444d-8e6f-8b662d9b0f2b",
   "metadata": {},
   "source": [
    "Que 15: how to install python on windows and set path veriables?"
   ]
  },
  {
   "cell_type": "markdown",
   "id": "5ad29b78-b4d4-445a-b1bf-e427b3de3778",
   "metadata": {},
   "source": [
    "ans: install python from this link https://www.python.org/downloads/\n",
    "after this, install it on your PC. Look for the location where PYTHON has been installed on youe PC using tge following command on your command prompt: cmd python.\n",
    "Then go to advanced system settings and add new variables and name it as PYTHON_NAME and paste the coppied path.\n",
    "Then look for the python path variables, select it's value and select edit add a semicolon towards the end of the value if it's not present and then % PYTHON_HOME%"
   ]
  },
  {
   "cell_type": "markdown",
   "id": "6e0d70a5-fd0a-452e-bb23-9a5c3547b337",
   "metadata": {},
   "source": [
    "Que 16: is indentation required in python?"
   ]
  },
  {
   "cell_type": "markdown",
   "id": "56726168-27c6-4209-a35a-8066e5621733",
   "metadata": {},
   "source": [
    "Ans: Indentation is necessary for python. it specifies a block of code.All code within loops,classes,functions,etc is specified within an indented block. it is usually done using four space characters. if your code is not indented necessarily."
   ]
  }
 ],
 "metadata": {
  "kernelspec": {
   "display_name": "Python 3 (ipykernel)",
   "language": "python",
   "name": "python3"
  },
  "language_info": {
   "codemirror_mode": {
    "name": "ipython",
    "version": 3
   },
   "file_extension": ".py",
   "mimetype": "text/x-python",
   "name": "python",
   "nbconvert_exporter": "python",
   "pygments_lexer": "ipython3",
   "version": "3.10.8"
  }
 },
 "nbformat": 4,
 "nbformat_minor": 5
}
